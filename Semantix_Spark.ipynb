{
 "cells": [
  {
   "cell_type": "code",
   "execution_count": 4,
   "metadata": {},
   "outputs": [],
   "source": [
    "from pyspark import SparkConf, SparkContext"
   ]
  },
  {
   "cell_type": "code",
   "execution_count": 5,
   "metadata": {},
   "outputs": [],
   "source": [
    "from operator import add"
   ]
  },
  {
   "cell_type": "code",
   "execution_count": 6,
   "metadata": {},
   "outputs": [],
   "source": [
    "conf = (SparkConf()\n",
    "        .setMaster(\"local\")\n",
    "        .setAppName(\"Desafio\")\n",
    "        .set(\"spark.executor.memory\",\"4g\"))\n"
   ]
  },
  {
   "cell_type": "code",
   "execution_count": null,
   "metadata": {},
   "outputs": [],
   "source": [
    "sc = SparkContext(conf = conf)\n"
   ]
  },
  {
   "cell_type": "code",
   "execution_count": 13,
   "metadata": {},
   "outputs": [],
   "source": [
    "julho = sc.textFile('NASA_access_log_Jul95')\n",
    "julho = julho.cache()"
   ]
  },
  {
   "cell_type": "code",
   "execution_count": 14,
   "metadata": {},
   "outputs": [],
   "source": [
    "agosto = sc.textFile('NASA_access_log_Aug95')\n",
    "agosto = agosto.cache()"
   ]
  },
  {
   "cell_type": "code",
   "execution_count": null,
   "metadata": {},
   "outputs": [],
   "source": [
    "agosto"
   ]
  },
  {
   "cell_type": "markdown",
   "metadata": {},
   "source": [
    "## Contagem de valores unicos\n"
   ]
  },
  {
   "cell_type": "code",
   "execution_count": null,
   "metadata": {},
   "outputs": [],
   "source": [
    "count_agosto_host_distinc = agosto.flatMap(lambda linha: linha.split(' ')[0]).distinct().count()\n",
    "print('Valores unicos contado em agosto %s' %count_agosto_host_distinc)\n",
    "\n",
    "count_julho_host_distinc = julho.flatMap(lambda linha: linha.split(' ')[0]).distinct().count()\n",
    "print('Valores unicos contado em julho %s' %count_julho_host_distinc)"
   ]
  },
  {
   "cell_type": "markdown",
   "metadata": {},
   "source": [
    "## Contagem de erros 404\n"
   ]
  },
  {
   "cell_type": "code",
   "execution_count": null,
   "metadata": {},
   "outputs": [],
   "source": [
    "def total_404(linha):\n",
    "    try:\n",
    "        code = linha.split(' ')[-2]\n",
    "        if code == '404':\n",
    "            return True\n",
    "    except:\n",
    "        pass\n",
    "    \n",
    "    return False\n",
    "\n",
    "total_agosto_404 = agosto.filter(total_404).cache()\n",
    "total_julho_404 = julho.flatMap(lambda linha: linha.split(' ')[-2] == '404').cache()\n",
    "\n",
    "print('Total de Erros 404 contados em agosto %s' %total_agosto_404.count())\n",
    "print('Total de Erros 404 contados em julho %s' %total_julho_404.count())"
   ]
  },
  {
   "cell_type": "markdown",
   "metadata": {},
   "source": [
    "## Top 5 Urls"
   ]
  },
  {
   "cell_type": "code",
   "execution_count": null,
   "metadata": {},
   "outputs": [],
   "source": [
    "def top5erros(rdd):\n",
    "    erro = rdd.map(lambda linha: linha.splt('\"')[1].split(' ')[1])\n",
    "    contador = erro.map(lambda erro: (erro,1)).reduceByKey (add)\n",
    "    top = contador.sortBy(lambda pair: -pair[1].take(5))\n",
    "    \n",
    "    print('\\n Top 5 urls com mais frequencia sao: ')\n",
    "    for erro, count in top:\n",
    "        print(erro, count)\n",
    "    \n",
    "    return top\n",
    "\n",
    "top5erros(total_agosto_404)\n",
    "top5erros(total_julho_404)"
   ]
  },
  {
   "cell_type": "markdown",
   "metadata": {},
   "source": [
    "## Quantidade por dia"
   ]
  },
  {
   "cell_type": "code",
   "execution_count": null,
   "metadata": {},
   "outputs": [],
   "source": [
    "\n",
    "def dia_count(rdd):\n",
    "    dias = rdd.map(lambda linha: linha.split('[')[1].split(':')[0])\n",
    "    contador = dias.map(lambda dia: (dia, 1)).reduceByKey(add).collect()\n",
    "    \n",
    "    print('\\nQuantidade por dia')\n",
    "    for dia, count in contador:\n",
    "        print(dia, count)\n",
    "        \n",
    "    return contador\n",
    "\n",
    "contador_dia(julho_404)\n",
    "contador_dia(agosto_404)"
   ]
  },
  {
   "cell_type": "markdown",
   "metadata": {},
   "source": [
    "## Total de bytes Retornados"
   ]
  },
  {
   "cell_type": "code",
   "execution_count": null,
   "metadata": {},
   "outputs": [],
   "source": [
    "def bytes_retornados(rdd):\n",
    "    def byte_count(line):\n",
    "        try:\n",
    "            count = int(line.split(\" \")[-1])\n",
    "            if count < 0:\n",
    "                raise ValueError()\n",
    "            return count\n",
    "        except:\n",
    "            return 0\n",
    "        \n",
    "    count = rdd.map(byte_count).reduce(add)\n",
    "    return count\n",
    "\n",
    "print('O total de bytes retornados em Julho: %s' % count_dados_acumulados(julho))\n",
    "print('O total de bytes retornados em Agosto: %s' % count_dados_acumulados(agosto))"
   ]
  }
 ],
 "metadata": {
  "kernelspec": {
   "display_name": "Python 3",
   "language": "python",
   "name": "python3"
  },
  "language_info": {
   "codemirror_mode": {
    "name": "ipython",
    "version": 3
   },
   "file_extension": ".py",
   "mimetype": "text/x-python",
   "name": "python",
   "nbconvert_exporter": "python",
   "pygments_lexer": "ipython3",
   "version": "3.7.6"
  }
 },
 "nbformat": 4,
 "nbformat_minor": 4
}
